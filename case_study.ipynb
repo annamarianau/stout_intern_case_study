{
 "cells": [
  {
   "cell_type": "code",
   "execution_count": 1,
   "id": "2761351f",
   "metadata": {},
   "outputs": [],
   "source": [
    "import pandas as pd\n",
    "import numpy as np\n",
    "import seaborn as sns\n",
    "import matplotlib.pyplot as plt\n",
    "from matplotlib.ticker import FuncFormatter"
   ]
  },
  {
   "cell_type": "markdown",
   "id": "ab5e8b12",
   "metadata": {},
   "source": [
    "# Import data\n",
    "\n",
    "The data contains three years (2015-2017) worth of customer orders, including the following four columns:\n",
    "- index\n",
    "- customer_email\n",
    "- net_revenue\n",
    "- year"
   ]
  },
  {
   "cell_type": "code",
   "execution_count": 2,
   "id": "e8e6d268",
   "metadata": {
    "scrolled": true
   },
   "outputs": [
    {
     "name": "stdout",
     "output_type": "stream",
     "text": [
      "Data size (n_rows, n_columns): (685927, 4)\n"
     ]
    },
    {
     "data": {
      "text/html": [
       "<div>\n",
       "<style scoped>\n",
       "    .dataframe tbody tr th:only-of-type {\n",
       "        vertical-align: middle;\n",
       "    }\n",
       "\n",
       "    .dataframe tbody tr th {\n",
       "        vertical-align: top;\n",
       "    }\n",
       "\n",
       "    .dataframe thead th {\n",
       "        text-align: right;\n",
       "    }\n",
       "</style>\n",
       "<table border=\"1\" class=\"dataframe\">\n",
       "  <thead>\n",
       "    <tr style=\"text-align: right;\">\n",
       "      <th></th>\n",
       "      <th>index</th>\n",
       "      <th>customer_email</th>\n",
       "      <th>net_revenue</th>\n",
       "      <th>year</th>\n",
       "    </tr>\n",
       "  </thead>\n",
       "  <tbody>\n",
       "    <tr>\n",
       "      <th>0</th>\n",
       "      <td>0</td>\n",
       "      <td>nhknapwsbx@gmail.com</td>\n",
       "      <td>249.92</td>\n",
       "      <td>2015</td>\n",
       "    </tr>\n",
       "    <tr>\n",
       "      <th>1</th>\n",
       "      <td>1</td>\n",
       "      <td>joiuzbvcpn@gmail.com</td>\n",
       "      <td>87.61</td>\n",
       "      <td>2015</td>\n",
       "    </tr>\n",
       "    <tr>\n",
       "      <th>2</th>\n",
       "      <td>2</td>\n",
       "      <td>ukkjctepxt@gmail.com</td>\n",
       "      <td>168.38</td>\n",
       "      <td>2015</td>\n",
       "    </tr>\n",
       "    <tr>\n",
       "      <th>3</th>\n",
       "      <td>3</td>\n",
       "      <td>gykatilzrt@gmail.com</td>\n",
       "      <td>62.40</td>\n",
       "      <td>2015</td>\n",
       "    </tr>\n",
       "    <tr>\n",
       "      <th>4</th>\n",
       "      <td>4</td>\n",
       "      <td>mmsgsrtxah@gmail.com</td>\n",
       "      <td>43.08</td>\n",
       "      <td>2015</td>\n",
       "    </tr>\n",
       "  </tbody>\n",
       "</table>\n",
       "</div>"
      ],
      "text/plain": [
       "   index         customer_email  net_revenue  year\n",
       "0      0   nhknapwsbx@gmail.com       249.92  2015\n",
       "1      1   joiuzbvcpn@gmail.com        87.61  2015\n",
       "2      2   ukkjctepxt@gmail.com       168.38  2015\n",
       "3      3   gykatilzrt@gmail.com        62.40  2015\n",
       "4      4   mmsgsrtxah@gmail.com        43.08  2015"
      ]
     },
     "metadata": {},
     "output_type": "display_data"
    }
   ],
   "source": [
    "orders_df = pd.read_csv ('data/casestudy.csv', header=0, names=['index', 'customer_email', 'net_revenue', 'year'])\n",
    "\n",
    "print(f'Data size (n_rows, n_columns): {orders_df.shape}')\n",
    "display(orders_df.head()) "
   ]
  },
  {
   "cell_type": "code",
   "execution_count": 3,
   "id": "0d0cf6f0",
   "metadata": {},
   "outputs": [
    {
     "name": "stdout",
     "output_type": "stream",
     "text": [
      "<class 'pandas.core.frame.DataFrame'>\n",
      "RangeIndex: 685927 entries, 0 to 685926\n",
      "Data columns (total 4 columns):\n",
      " #   Column          Non-Null Count   Dtype  \n",
      "---  ------          --------------   -----  \n",
      " 0   index           685927 non-null  int64  \n",
      " 1   customer_email  685927 non-null  object \n",
      " 2   net_revenue     685927 non-null  float64\n",
      " 3   year            685927 non-null  int64  \n",
      "dtypes: float64(1), int64(2), object(1)\n",
      "memory usage: 20.9+ MB\n"
     ]
    },
    {
     "data": {
      "text/html": [
       "<div>\n",
       "<style scoped>\n",
       "    .dataframe tbody tr th:only-of-type {\n",
       "        vertical-align: middle;\n",
       "    }\n",
       "\n",
       "    .dataframe tbody tr th {\n",
       "        vertical-align: top;\n",
       "    }\n",
       "\n",
       "    .dataframe thead th {\n",
       "        text-align: right;\n",
       "    }\n",
       "</style>\n",
       "<table border=\"1\" class=\"dataframe\">\n",
       "  <thead>\n",
       "    <tr style=\"text-align: right;\">\n",
       "      <th></th>\n",
       "      <th>index</th>\n",
       "      <th>net_revenue</th>\n",
       "      <th>year</th>\n",
       "    </tr>\n",
       "  </thead>\n",
       "  <tbody>\n",
       "    <tr>\n",
       "      <th>count</th>\n",
       "      <td>685927.000000</td>\n",
       "      <td>685927.000000</td>\n",
       "      <td>685927.000000</td>\n",
       "    </tr>\n",
       "    <tr>\n",
       "      <th>mean</th>\n",
       "      <td>342963.000000</td>\n",
       "      <td>125.647755</td>\n",
       "      <td>2016.027252</td>\n",
       "    </tr>\n",
       "    <tr>\n",
       "      <th>std</th>\n",
       "      <td>198010.213384</td>\n",
       "      <td>71.854528</td>\n",
       "      <td>0.837203</td>\n",
       "    </tr>\n",
       "    <tr>\n",
       "      <th>min</th>\n",
       "      <td>0.000000</td>\n",
       "      <td>1.000000</td>\n",
       "      <td>2015.000000</td>\n",
       "    </tr>\n",
       "    <tr>\n",
       "      <th>25%</th>\n",
       "      <td>171481.500000</td>\n",
       "      <td>63.510000</td>\n",
       "      <td>2015.000000</td>\n",
       "    </tr>\n",
       "    <tr>\n",
       "      <th>50%</th>\n",
       "      <td>342963.000000</td>\n",
       "      <td>125.730000</td>\n",
       "      <td>2016.000000</td>\n",
       "    </tr>\n",
       "    <tr>\n",
       "      <th>75%</th>\n",
       "      <td>514444.500000</td>\n",
       "      <td>187.820000</td>\n",
       "      <td>2017.000000</td>\n",
       "    </tr>\n",
       "    <tr>\n",
       "      <th>max</th>\n",
       "      <td>685926.000000</td>\n",
       "      <td>250.000000</td>\n",
       "      <td>2017.000000</td>\n",
       "    </tr>\n",
       "  </tbody>\n",
       "</table>\n",
       "</div>"
      ],
      "text/plain": [
       "               index    net_revenue           year\n",
       "count  685927.000000  685927.000000  685927.000000\n",
       "mean   342963.000000     125.647755    2016.027252\n",
       "std    198010.213384      71.854528       0.837203\n",
       "min         0.000000       1.000000    2015.000000\n",
       "25%    171481.500000      63.510000    2015.000000\n",
       "50%    342963.000000     125.730000    2016.000000\n",
       "75%    514444.500000     187.820000    2017.000000\n",
       "max    685926.000000     250.000000    2017.000000"
      ]
     },
     "execution_count": 3,
     "metadata": {},
     "output_type": "execute_result"
    }
   ],
   "source": [
    "# Summary of data\n",
    "orders_df.info()\n",
    "\n",
    "# Decscriptive statistics of data\n",
    "orders_df.describe()"
   ]
  },
  {
   "cell_type": "code",
   "execution_count": 4,
   "id": "31683f2a",
   "metadata": {},
   "outputs": [
    {
     "data": {
      "text/html": [
       "<div>\n",
       "<style scoped>\n",
       "    .dataframe tbody tr th:only-of-type {\n",
       "        vertical-align: middle;\n",
       "    }\n",
       "\n",
       "    .dataframe tbody tr th {\n",
       "        vertical-align: top;\n",
       "    }\n",
       "\n",
       "    .dataframe thead th {\n",
       "        text-align: right;\n",
       "    }\n",
       "</style>\n",
       "<table border=\"1\" class=\"dataframe\">\n",
       "  <thead>\n",
       "    <tr style=\"text-align: right;\">\n",
       "      <th></th>\n",
       "      <th>size</th>\n",
       "      <th>count</th>\n",
       "    </tr>\n",
       "    <tr>\n",
       "      <th>year</th>\n",
       "      <th></th>\n",
       "      <th></th>\n",
       "    </tr>\n",
       "  </thead>\n",
       "  <tbody>\n",
       "    <tr>\n",
       "      <th>2015</th>\n",
       "      <td>231294</td>\n",
       "      <td>231294</td>\n",
       "    </tr>\n",
       "    <tr>\n",
       "      <th>2016</th>\n",
       "      <td>204646</td>\n",
       "      <td>204646</td>\n",
       "    </tr>\n",
       "    <tr>\n",
       "      <th>2017</th>\n",
       "      <td>249987</td>\n",
       "      <td>249987</td>\n",
       "    </tr>\n",
       "  </tbody>\n",
       "</table>\n",
       "</div>"
      ],
      "text/plain": [
       "        size   count\n",
       "year                \n",
       "2015  231294  231294\n",
       "2016  204646  204646\n",
       "2017  249987  249987"
      ]
     },
     "execution_count": 4,
     "metadata": {},
     "output_type": "execute_result"
    }
   ],
   "source": [
    "# Check if customer emails are unique per year\n",
    "orders_df.groupby('year')['customer_email'].agg(['size', 'count']) \n",
    "\n",
    "# Since the number of rows ('size') equals the number of unique 'customer_email' values (count) for each year, \n",
    "# customer emails are unique per year"
   ]
  },
  {
   "cell_type": "markdown",
   "id": "bfe93841",
   "metadata": {},
   "source": [
    "# Data analysis\n",
    "For each year, the following will be calulated:\n",
    "- Total revenue for the current year (existing customer revenue + new customer revenue)\n",
    "- New customer revenue (new customers are customers that were not present in previous year only).\n",
    "- Existing customer growth (revenue of existing customers for current year – revenue of existing customers from the previous year).\n",
    "- Average revenue lost from attrition. Here we assume that the net revenue per lost customer is equal to the average net revenue of the current year.\n",
    "- Existing customer revenue current year.\n",
    "- Existing customer revenue prior year.\n",
    "- Total customers current year.\n",
    "- Total customers previous year.\n",
    "- New customers.\n",
    "- Lost customers."
   ]
  },
  {
   "cell_type": "code",
   "execution_count": 5,
   "id": "7b20fc81",
   "metadata": {},
   "outputs": [
    {
     "name": "stdout",
     "output_type": "stream",
     "text": [
      "Year: 2015\n",
      "Total revenue: 29036749.19\n",
      "New customer revenue: N/A\n",
      "Existing customer revenue growth: N/A\n",
      "Revenue lost from attrition: N/A\n",
      "Existing customer revenue current year: 29036749.19\n",
      "Existing customer revenue prior year: N/A\n",
      "Total customers current year: 231294\n",
      "Total customers previous year: N/A\n",
      "Number of new customers: N/A\n",
      "Number of lost customers: N/A\n",
      "\n",
      "Year: 2016\n",
      "Total revenue: 25730943.59\n",
      "New customer revenue: 18245491.01\n",
      "Existing customer revenue growth: -21551296.61 (rate=-74.22%)\n",
      "Average revenue lost from attrition: 21589771.23\n",
      "Existing customer revenue current year: 7485452.58\n",
      "Existing customer revenue prior year: 29036749.19\n",
      "Total customers current year: 204646\n",
      "Total customers previous year: 231294\n",
      "Number of new customers: 145062\n",
      "Number of lost customers: 171710\n",
      "\n",
      "Year: 2017\n",
      "Total revenue: 31417495.03\n",
      "New customer revenue: 28776235.04\n",
      "Existing customer revenue growth: -4844192.59 (rate=-64.71%)\n",
      "Average revenue lost from attrition: 23085142.07\n",
      "Existing customer revenue current year: 2641259.99\n",
      "Existing customer revenue prior year: 7485452.58\n",
      "Total customers current year: 249987\n",
      "Total customers previous year: 204646\n",
      "Number of new customers: 229028\n",
      "Number of lost customers: 183687\n",
      "\n"
     ]
    }
   ],
   "source": [
    "years_ls = [2015, 2016, 2017]\n",
    "\n",
    "existing_rev_ls = []\n",
    "for idx, year in enumerate(years_ls):\n",
    "    \n",
    "    print(f'Year: {year}')\n",
    "    \n",
    "    # store orders of previous year (if applicable) and current year in a separate dataframe\n",
    "    if idx == 0:\n",
    "        orders_current_df = orders_df[orders_df['year'] == year]\n",
    "    else:\n",
    "        orders_previous_df = orders_df[orders_df['year'] == years_ls[idx-1]]\n",
    "        orders_current_df = orders_df[orders_df['year'] == year]\n",
    "\n",
    "    # total revenue of current year\n",
    "    total_revenue = round(orders_current_df['net_revenue'].sum(), 2)\n",
    "    print(f'Total revenue: {total_revenue}')\n",
    "\n",
    "    ### New customer revenue\n",
    "    if idx == 0:\n",
    "        print('New customer revenue: N/A')\n",
    "    else:\n",
    "        new_customers_df = orders_current_df[~orders_current_df['customer_email'].isin(orders_previous_df['customer_email'])]\n",
    "        print(f'New customer revenue: {round(new_customers_df[\"net_revenue\"].sum(), 2)}')\n",
    "        \n",
    "    ### Existing customer growth\n",
    "    if idx == 0:\n",
    "        existing_rev_ls.append(total_revenue)\n",
    "        print('Existing customer revenue growth: N/A')\n",
    "    else:\n",
    "        common_df = orders_previous_df.merge(orders_current_df, on='customer_email', how='inner')\n",
    "        existing_current_rev = common_df['net_revenue_y'].sum()\n",
    "        existing_rev_ls.append(existing_current_rev)\n",
    "        existing_previous_rev = existing_rev_ls[idx-1]\n",
    "        \n",
    "        growth = existing_current_rev - existing_previous_rev\n",
    "        growth_rate = growth/ existing_previous_rev\n",
    "        print(f'Existing customer revenue growth: {round(growth, 2)} (rate={round(growth_rate*100, 2)}%)')\n",
    "    \n",
    "    ### Revenue lost from attrition\n",
    "    if idx == 0:\n",
    "        print('Revenue lost from attrition: N/A')\n",
    "    else:\n",
    "        lost_customers_df = orders_previous_df[~orders_previous_df['customer_email'].isin(orders_current_df['customer_email'])]\n",
    "        ave_revenue_current = orders_current_df['net_revenue'].mean()\n",
    "        lost_revenue = ave_revenue_current * lost_customers_df.shape[0]\n",
    "        print(f'Average revenue lost from attrition: {round(lost_revenue, 2)}')\n",
    "        \n",
    "    ### Existing customer revenue current year\n",
    "    if idx == 0: \n",
    "        print(f'Existing customer revenue current year: {total_revenue}')\n",
    "    else:\n",
    "        print(f'Existing customer revenue current year: {existing_current_rev}')\n",
    "    \n",
    "    ### Existing customer revenue prior year\n",
    "    if idx == 0:\n",
    "        print('Existing customer revenue prior year: N/A')\n",
    "    else:\n",
    "        print(f'Existing customer revenue prior year: {existing_previous_rev}')\n",
    "\n",
    "    ### Total customers current year\n",
    "    print(f'Total customers current year: {orders_current_df[\"customer_email\"].nunique()}')\n",
    "\n",
    "    ### Total customers previous year\n",
    "    if idx == 0:\n",
    "        print('Total customers previous year: N/A')\n",
    "    else:\n",
    "        print(f'Total customers previous year: {orders_previous_df[\"customer_email\"].nunique()}')\n",
    "\n",
    "    ### New Customers\n",
    "    if idx == 0:\n",
    "        print('Number of new customers: N/A')\n",
    "    else:\n",
    "        print(f'Number of new customers: {new_customers_df[\"customer_email\"].nunique()}')\n",
    "\n",
    "    ### Lost Customers\n",
    "    if idx == 0:\n",
    "        print('Number of lost customers: N/A')\n",
    "    else:\n",
    "        lost_customers_df = orders_previous_df[~orders_previous_df['customer_email'].isin(orders_current_df['customer_email'])]\n",
    "        print(f'Number of lost customers: {lost_customers_df[\"customer_email\"].nunique()}')\n",
    "    \n",
    "    print()"
   ]
  },
  {
   "cell_type": "markdown",
   "id": "11ba30cc",
   "metadata": {},
   "source": [
    "### Visualizations"
   ]
  },
  {
   "cell_type": "code",
   "execution_count": 6,
   "id": "9d310f8e",
   "metadata": {},
   "outputs": [],
   "source": [
    "def millions_formatter(x, pos):\n",
    "    return f'{x / 1000000}'"
   ]
  },
  {
   "cell_type": "code",
   "execution_count": 7,
   "id": "196837d2",
   "metadata": {},
   "outputs": [
    {
     "data": {
      "image/png": "[encoded data removed]",
      "text/plain": [
       "<Figure size 360x360 with 1 Axes>"
      ]
     },
     "metadata": {
      "needs_background": "light"
     },
     "output_type": "display_data"
    }
   ],
   "source": [
    "# Barplot of total net revenue, by year\n",
    "df = pd.DataFrame(orders_df.groupby('year')['net_revenue'].sum()).reset_index()\n",
    "y_pos = np.arange(len(df['year']))\n",
    "\n",
    "fig, ax = plt.subplots(figsize=(5,5))\n",
    "ax.bar(y_pos, df['net_revenue'])\n",
    "plt.xticks(y_pos, df['year'])\n",
    "ax.yaxis.set_major_formatter(FuncFormatter(millions_formatter))\n",
    "plt.ylim(0, 35000000)\n",
    "plt.xlabel(\"Year\", fontsize=12)\n",
    "plt.ylabel(\"Net Revenue (millions)\", fontsize=12)\n",
    "plt.title(\"Total Net Revenue, by Year\", fontsize=16)\n",
    "plt.show()"
   ]
  },
  {
   "cell_type": "code",
   "execution_count": 8,
   "id": "cf9cee73",
   "metadata": {},
   "outputs": [
    {
     "data": {
      "image/png": "[encoded data removed]",
      "text/plain": [
       "<Figure size 360x360 with 1 Axes>"
      ]
     },
     "metadata": {},
     "output_type": "display_data"
    }
   ],
   "source": [
    "# Pie chart showing breap-up of total revenue\n",
    "fig, ax = plt.subplots(figsize=(5,5))\n",
    "ax.pie(df['net_revenue'], labels=[2015, 2016, 2017], autopct='%1.1f%%', startangle=90, textprops={'fontsize': 12})\n",
    "ax.axis('equal')  # Equal aspect ratio ensures that pie is drawn as a circle.\n",
    "plt.title(\"Break-up of total revenue\",  fontsize=16)\n",
    "plt.show()"
   ]
  },
  {
   "cell_type": "markdown",
   "id": "0f0b5f21",
   "metadata": {},
   "source": [
    "# Key findings\n",
    "According to the results and plots, the total revenue was the lowest in 2016 (\\~\\\\$27.5M), and highest in 2017 (\\~\\\\$31.4M). The drop in revenue from 2015 to 2016, followed by a rise in revenue from 2016 to 2017, reflects the decrease and increase of customers for those years. The negative existing customer revenue growth in 2016 and 2017 indicates that existing customers decreased their spending or left. Although 2017 experienced a negative existing customer revenue growth, the total revenue increased from 2016 to 2017 due to the new customer spending behavior. "
   ]
  },
  {
   "cell_type": "code",
   "execution_count": null,
   "id": "8b02fce2",
   "metadata": {},
   "outputs": [],
   "source": []
  }
 ],
 "metadata": {
  "kernelspec": {
   "display_name": "Python 3",
   "language": "python",
   "name": "python3"
  },
  "language_info": {
   "codemirror_mode": {
    "name": "ipython",
    "version": 3
   },
   "file_extension": ".py",
   "mimetype": "text/x-python",
   "name": "python",
   "nbconvert_exporter": "python",
   "pygments_lexer": "ipython3",
   "version": "3.8.8"
  }
 },
 "nbformat": 4,
 "nbformat_minor": 5
}
